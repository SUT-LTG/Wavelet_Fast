{
 "cells": [
  {
   "cell_type": "code",
   "execution_count": 1,
   "metadata": {},
   "outputs": [],
   "source": [
    "from Wavelet_Fast import *\n",
    "\n",
    "import numpy as np\n",
    "import matplotlib\n",
    "from scipy import  fft\n",
    "from astropy.io import fits"
   ]
  },
  {
   "attachments": {},
   "cell_type": "markdown",
   "metadata": {},
   "source": [
    "Analysis of NGC 628:"
   ]
  },
  {
   "cell_type": "code",
   "execution_count": 2,
   "metadata": {},
   "outputs": [],
   "source": [
    "names=['NGC628_V','NGC628_Ha_sub','NGC628_HI_MOM0']\n",
    "paths=['THINGS\\\\NGC_0628_I_V_l1999.fits','THINGS\\\\NGC_0628_I_Ha_sub_kab2003.fits','THINGS\\\\NGC_628_RO_MOM0_THINGS.fits']\n",
    "scales=[[2,60,1],[2,60,1]]\n",
    "scale_types=[\"triplet\",\"triplet\",\"triplet\"]\n",
    "pixel_scales=[1.134,0.4344001,1.5]\n",
    "color=[]\n",
    "distance=1000000\n",
    "crop = [[],[]]"
   ]
  },
  {
   "cell_type": "code",
   "execution_count": 3,
   "metadata": {},
   "outputs": [],
   "source": [
    "names=['NGC628_Ha_sub','NGC628_HI_MOM0']\n",
    "paths=['THINGS\\\\NGC_0628_I_Ha_sub_kab2003.fits','THINGS\\\\NGC_628_RO_MOM0_THINGS_fix.fits']\n",
    "scales=[[18,55,2.75],[5,55,0.8]]\n",
    "scale_types=[\"triplet\",\"triplet\"]\n",
    "pixel_scales=[0.4344001,1.5]\n",
    "color=[]\n",
    "distance=1000000\n",
    "crop = [[[250,1800],[250,1800]],[]]"
   ]
  },
  {
   "cell_type": "code",
   "execution_count": null,
   "metadata": {},
   "outputs": [],
   "source": [
    "data_batch_energy_plot(paths,names,scales,pixel_scales,distance,scale_types,crop,'arcsec',colors=color,save_results=True)"
   ]
  }
 ],
 "metadata": {
  "kernelspec": {
   "display_name": "Python 3",
   "language": "python",
   "name": "python3"
  },
  "language_info": {
   "codemirror_mode": {
    "name": "ipython",
    "version": 3
   },
   "file_extension": ".py",
   "mimetype": "text/x-python",
   "name": "python",
   "nbconvert_exporter": "python",
   "pygments_lexer": "ipython3",
   "version": "3.9.2"
  },
  "orig_nbformat": 4
 },
 "nbformat": 4,
 "nbformat_minor": 2
}
